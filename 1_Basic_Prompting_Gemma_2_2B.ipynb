{
  "nbformat": 4,
  "nbformat_minor": 0,
  "metadata": {
    "colab": {
      "provenance": [],
      "gpuType": "T4"
    },
    "kernelspec": {
      "name": "python3",
      "display_name": "Python 3"
    },
    "language_info": {
      "name": "python"
    },
    "accelerator": "GPU"
  },
  "cells": [
    {
      "cell_type": "code",
      "source": [
        "!pip install git+https://github.com/huggingface/transformers.git --upgrade\n"
      ],
      "metadata": {
        "colab": {
          "base_uri": "https://localhost:8080/"
        },
        "id": "sxqbMcgNsc2A",
        "outputId": "3d53a668-c744-45bf-d8f5-c98a41e1c29f"
      },
      "execution_count": 1,
      "outputs": [
        {
          "output_type": "stream",
          "name": "stdout",
          "text": [
            "Collecting git+https://github.com/huggingface/transformers.git\n",
            "  Cloning https://github.com/huggingface/transformers.git to /tmp/pip-req-build-mviecahc\n",
            "  Running command git clone --filter=blob:none --quiet https://github.com/huggingface/transformers.git /tmp/pip-req-build-mviecahc\n",
            "  Resolved https://github.com/huggingface/transformers.git to commit 9d6998c759fc08d6a87e81adf26e59d9c932396b\n",
            "  Installing build dependencies ... \u001b[?25l\u001b[?25hdone\n",
            "  Getting requirements to build wheel ... \u001b[?25l\u001b[?25hdone\n",
            "  Preparing metadata (pyproject.toml) ... \u001b[?25l\u001b[?25hdone\n",
            "Requirement already satisfied: filelock in /usr/local/lib/python3.10/dist-packages (from transformers==4.46.0.dev0) (3.16.1)\n",
            "Requirement already satisfied: huggingface-hub<1.0,>=0.23.2 in /usr/local/lib/python3.10/dist-packages (from transformers==4.46.0.dev0) (0.24.7)\n",
            "Requirement already satisfied: numpy>=1.17 in /usr/local/lib/python3.10/dist-packages (from transformers==4.46.0.dev0) (1.26.4)\n",
            "Requirement already satisfied: packaging>=20.0 in /usr/local/lib/python3.10/dist-packages (from transformers==4.46.0.dev0) (24.1)\n",
            "Requirement already satisfied: pyyaml>=5.1 in /usr/local/lib/python3.10/dist-packages (from transformers==4.46.0.dev0) (6.0.2)\n",
            "Requirement already satisfied: regex!=2019.12.17 in /usr/local/lib/python3.10/dist-packages (from transformers==4.46.0.dev0) (2024.9.11)\n",
            "Requirement already satisfied: requests in /usr/local/lib/python3.10/dist-packages (from transformers==4.46.0.dev0) (2.32.3)\n",
            "Requirement already satisfied: tokenizers<0.21,>=0.20 in /usr/local/lib/python3.10/dist-packages (from transformers==4.46.0.dev0) (0.20.1)\n",
            "Requirement already satisfied: safetensors>=0.4.1 in /usr/local/lib/python3.10/dist-packages (from transformers==4.46.0.dev0) (0.4.5)\n",
            "Requirement already satisfied: tqdm>=4.27 in /usr/local/lib/python3.10/dist-packages (from transformers==4.46.0.dev0) (4.66.5)\n",
            "Requirement already satisfied: fsspec>=2023.5.0 in /usr/local/lib/python3.10/dist-packages (from huggingface-hub<1.0,>=0.23.2->transformers==4.46.0.dev0) (2024.6.1)\n",
            "Requirement already satisfied: typing-extensions>=3.7.4.3 in /usr/local/lib/python3.10/dist-packages (from huggingface-hub<1.0,>=0.23.2->transformers==4.46.0.dev0) (4.12.2)\n",
            "Requirement already satisfied: charset-normalizer<4,>=2 in /usr/local/lib/python3.10/dist-packages (from requests->transformers==4.46.0.dev0) (3.4.0)\n",
            "Requirement already satisfied: idna<4,>=2.5 in /usr/local/lib/python3.10/dist-packages (from requests->transformers==4.46.0.dev0) (3.10)\n",
            "Requirement already satisfied: urllib3<3,>=1.21.1 in /usr/local/lib/python3.10/dist-packages (from requests->transformers==4.46.0.dev0) (2.2.3)\n",
            "Requirement already satisfied: certifi>=2017.4.17 in /usr/local/lib/python3.10/dist-packages (from requests->transformers==4.46.0.dev0) (2024.8.30)\n"
          ]
        }
      ]
    },
    {
      "cell_type": "code",
      "source": [
        "from transformers import pipeline\n",
        "import torch\n",
        "\n",
        "pipe = pipeline(\n",
        "    \"text-generation\",\n",
        "    model= \"unsloth/gemma-2-2b-it\",\n",
        "    model_kwargs={\"torch_dtype\": torch.bfloat16},\n",
        "    device=\"cuda\",\n",
        ")\n",
        "\n"
      ],
      "metadata": {
        "colab": {
          "base_uri": "https://localhost:8080/"
        },
        "id": "qRntss2urY3r",
        "outputId": "c4f875a0-c583-4043-9930-87207719a4ba"
      },
      "execution_count": 2,
      "outputs": [
        {
          "output_type": "stream",
          "name": "stderr",
          "text": [
            "/usr/local/lib/python3.10/dist-packages/huggingface_hub/utils/_token.py:89: UserWarning: \n",
            "The secret `HF_TOKEN` does not exist in your Colab secrets.\n",
            "To authenticate with the Hugging Face Hub, create a token in your settings tab (https://huggingface.co/settings/tokens), set it as secret in your Google Colab and restart your session.\n",
            "You will be able to reuse this secret in all of your notebooks.\n",
            "Please note that authentication is recommended but still optional to access public models or datasets.\n",
            "  warnings.warn(\n"
          ]
        }
      ]
    },
    {
      "cell_type": "code",
      "source": [
        "messages = [\n",
        "    {\"role\": \"user\", \"content\": \"What are the chances of Elon Musk becoming the US President in 2024?\"},\n",
        "]\n",
        "outputs = pipe(messages, max_new_tokens=256)\n",
        "assistant_response = outputs[0][\"generated_text\"][-1][\"content\"].strip()\n",
        "print(assistant_response)"
      ],
      "metadata": {
        "colab": {
          "base_uri": "https://localhost:8080/"
        },
        "id": "BG49WtjUsW8C",
        "outputId": "b89961a7-fa4c-4d10-cb64-da68096749e0"
      },
      "execution_count": 3,
      "outputs": [
        {
          "output_type": "stream",
          "name": "stderr",
          "text": [
            "The 'max_batch_size' argument of HybridCache is deprecated and will be removed in v4.46. Use the more precisely named 'batch_size' argument instead.\n"
          ]
        },
        {
          "output_type": "stream",
          "name": "stdout",
          "text": [
            "It's impossible to give a definitive percentage chance of Elon Musk becoming US President in 2024. Here's why:\n",
            "\n",
            "* **No official candidacy:** As of right now, Elon Musk has not announced his intention to run for President in 2024. He has expressed interest in the future of the US political system, but hasn't formally declared his candidacy.\n",
            "* **Highly unlikely:** While Musk is a highly influential figure, he lacks the traditional political experience and network necessary to run a successful presidential campaign. He's also known for his outspoken and sometimes controversial views, which could alienate voters.\n",
            "* **Political landscape:** The 2024 election is still a long way off, and the political landscape could change significantly. New candidates could emerge, and current political trends could shift. \n",
            "* **Public opinion:** Public opinion on Musk's suitability for the presidency is uncertain. Some might see him as a disruptive force for change, while others might view him as unqualified or even dangerous.\n",
            "\n",
            "**However, we can consider some factors that might influence his potential candidacy:**\n",
            "\n",
            "* **Musk's wealth and influence:** His vast wealth and influence could give him access to significant resources for a campaign.\n",
            "* **\n"
          ]
        }
      ]
    },
    {
      "cell_type": "code",
      "source": [
        "from rich.console import Console\n",
        "from rich.markdown import Markdown\n",
        "\n",
        "\n",
        "def generate(question, max_tokens=256):\n",
        "    messages = [\n",
        "        {\"role\": \"user\", \"content\": question},\n",
        "    ]\n",
        "    outputs = pipe(messages, max_new_tokens=max_tokens)\n",
        "    assistant_response = outputs[0][\"generated_text\"][-1][\"content\"].strip()\n",
        "\n",
        "\n",
        "    console = Console()\n",
        "    md = Markdown(assistant_response)\n",
        "    console.print(md)\n",
        "\n",
        "\n",
        "    return assistant_response"
      ],
      "metadata": {
        "id": "yZvRzAgquKvZ"
      },
      "execution_count": 4,
      "outputs": []
    },
    {
      "cell_type": "code",
      "source": [
        "generate(\"What should I eat in Mumbai ?\")"
      ],
      "metadata": {
        "colab": {
          "base_uri": "https://localhost:8080/",
          "height": 429
        },
        "id": "VbPqjBUnuQp6",
        "outputId": "0c3f4547-c0f6-45ec-b62f-eb121deffc8d"
      },
      "execution_count": 5,
      "outputs": [
        {
          "output_type": "display_data",
          "data": {
            "text/plain": [
              "Mumbai is a food lover's paradise!  Here's a breakdown of must-try dishes, categorized for your convenience:       \n",
              "\n",
              "\u001b[1mStreet Food Delights:\u001b[0m                                                                                              \n",
              "\n",
              "\u001b[1;33m • \u001b[0m\u001b[1mVada Pav:\u001b[0m A Mumbai staple! A deep-fried potato patty served in a pav (soft bun) with chutneys.                  \n",
              "\u001b[1;33m • \u001b[0m\u001b[1mDosa:\u001b[0m Thin, crispy crepes made from fermented rice and lentil batter. Try the masala dosa or the plain dosa with\n",
              "\u001b[1;33m   \u001b[0mchutneys.                                                                                                       \n",
              "\u001b[1;33m • \u001b[0m\u001b[1mPav Bhaji:\u001b[0m A spicy, mashed vegetable curry served with buttered pav.                                            \n",
              "\u001b[1;33m • \u001b[0m\u001b[1mMisal Pav:\u001b[0m A spicy, tangy, and flavorful dish made with sprouted lentils, onions, and chilies.                  \n",
              "\u001b[1;33m • \u001b[0m\u001b[1mBhel Puri:\u001b[0m A crunchy and flavorful snack made with puffed rice, sev (crispy noodles), chutneys, and spices.     \n",
              "\u001b[1;33m • \u001b[0m** Pani Puri:** A burst of flavors! Small hollow balls filled with spiced potatoes, chickpeas, and chutneys.    \n",
              "\u001b[1;33m • \u001b[0m\u001b[1mChole Bhature:\u001b[0m A popular North Indian dish with spicy chickpea curry (chole) served with fluffy deep-fried bread\n",
              "\u001b[1;33m   \u001b[0m(bhature).                                                                                                      \n",
              "\n",
              "\u001b[1mFine Dining Experiences:\u001b[0m                                                                                           \n",
              "\n",
              "\u001b[1;33m • \u001b[0m\u001b[1mThali:\u001b[0m A traditional Indian platter with a variety of curries, rice, lentils, and breads.                       \n"
            ],
            "text/html": [
              "<pre style=\"white-space:pre;overflow-x:auto;line-height:normal;font-family:Menlo,'DejaVu Sans Mono',consolas,'Courier New',monospace\">Mumbai is a food lover's paradise!  Here's a breakdown of must-try dishes, categorized for your convenience:       \n",
              "\n",
              "<span style=\"font-weight: bold\">Street Food Delights:</span>                                                                                              \n",
              "\n",
              "<span style=\"color: #808000; text-decoration-color: #808000; font-weight: bold\"> • </span><span style=\"font-weight: bold\">Vada Pav:</span> A Mumbai staple! A deep-fried potato patty served in a pav (soft bun) with chutneys.                  \n",
              "<span style=\"color: #808000; text-decoration-color: #808000; font-weight: bold\"> • </span><span style=\"font-weight: bold\">Dosa:</span> Thin, crispy crepes made from fermented rice and lentil batter. Try the masala dosa or the plain dosa with\n",
              "<span style=\"color: #808000; text-decoration-color: #808000; font-weight: bold\">   </span>chutneys.                                                                                                       \n",
              "<span style=\"color: #808000; text-decoration-color: #808000; font-weight: bold\"> • </span><span style=\"font-weight: bold\">Pav Bhaji:</span> A spicy, mashed vegetable curry served with buttered pav.                                            \n",
              "<span style=\"color: #808000; text-decoration-color: #808000; font-weight: bold\"> • </span><span style=\"font-weight: bold\">Misal Pav:</span> A spicy, tangy, and flavorful dish made with sprouted lentils, onions, and chilies.                  \n",
              "<span style=\"color: #808000; text-decoration-color: #808000; font-weight: bold\"> • </span><span style=\"font-weight: bold\">Bhel Puri:</span> A crunchy and flavorful snack made with puffed rice, sev (crispy noodles), chutneys, and spices.     \n",
              "<span style=\"color: #808000; text-decoration-color: #808000; font-weight: bold\"> • </span>** Pani Puri:** A burst of flavors! Small hollow balls filled with spiced potatoes, chickpeas, and chutneys.    \n",
              "<span style=\"color: #808000; text-decoration-color: #808000; font-weight: bold\"> • </span><span style=\"font-weight: bold\">Chole Bhature:</span> A popular North Indian dish with spicy chickpea curry (chole) served with fluffy deep-fried bread\n",
              "<span style=\"color: #808000; text-decoration-color: #808000; font-weight: bold\">   </span>(bhature).                                                                                                      \n",
              "\n",
              "<span style=\"font-weight: bold\">Fine Dining Experiences:</span>                                                                                           \n",
              "\n",
              "<span style=\"color: #808000; text-decoration-color: #808000; font-weight: bold\"> • </span><span style=\"font-weight: bold\">Thali:</span> A traditional Indian platter with a variety of curries, rice, lentils, and breads.                       \n",
              "</pre>\n"
            ]
          },
          "metadata": {}
        },
        {
          "output_type": "execute_result",
          "data": {
            "text/plain": [
              "\"Mumbai is a food lover's paradise!  Here's a breakdown of must-try dishes, categorized for your convenience:\\n\\n**Street Food Delights:**\\n\\n* **Vada Pav:** A Mumbai staple! A deep-fried potato patty served in a pav (soft bun) with chutneys.\\n* **Dosa:** Thin, crispy crepes made from fermented rice and lentil batter. Try the masala dosa or the plain dosa with chutneys.\\n* **Pav Bhaji:** A spicy, mashed vegetable curry served with buttered pav.\\n* **Misal Pav:** A spicy, tangy, and flavorful dish made with sprouted lentils, onions, and chilies.\\n* **Bhel Puri:** A crunchy and flavorful snack made with puffed rice, sev (crispy noodles), chutneys, and spices.\\n* ** Pani Puri:** A burst of flavors! Small hollow balls filled with spiced potatoes, chickpeas, and chutneys.\\n* **Chole Bhature:** A popular North Indian dish with spicy chickpea curry (chole) served with fluffy deep-fried bread (bhature).\\n\\n**Fine Dining Experiences:**\\n\\n* **Thali:** A traditional Indian platter with a variety of curries, rice, lentils, and breads.\""
            ],
            "application/vnd.google.colaboratory.intrinsic+json": {
              "type": "string"
            }
          },
          "metadata": {},
          "execution_count": 5
        }
      ]
    },
    {
      "cell_type": "code",
      "source": [
        "generate(\"What should I do on a trip to Europe?\")"
      ],
      "metadata": {
        "colab": {
          "base_uri": "https://localhost:8080/",
          "height": 633
        },
        "id": "xoq_gOYtu9ex",
        "outputId": "f6b596be-db02-4d5e-abba-248cffe5782e"
      },
      "execution_count": 6,
      "outputs": [
        {
          "output_type": "display_data",
          "data": {
            "text/plain": [
              "Ah, Europe! The possibilities are endless! To give you the best recommendations, I need a little more information  \n",
              "about your trip. Tell me:                                                                                          \n",
              "\n",
              "\u001b[1m1. Where are you going?\u001b[0m                                                                                            \n",
              "\n",
              "\u001b[1;33m • \u001b[0mDo you have a specific country or region in mind? (e.g., Paris, Italy, the Balkans, Scandinavia)                \n",
              "\u001b[1;33m • \u001b[0mAre you open to exploring multiple countries?                                                                   \n",
              "\n",
              "\u001b[1m2. What are your interests?\u001b[0m                                                                                        \n",
              "\n",
              "\u001b[1;33m • \u001b[0mHistory buff? Art lover? Foodie? Nature enthusiast? Nightlife seeker?                                           \n",
              "\u001b[1;33m • \u001b[0mDo you prefer bustling cities or peaceful countryside?                                                          \n",
              "\n",
              "\u001b[1m3. What's your travel style?\u001b[0m                                                                                       \n",
              "\n",
              "\u001b[1;33m • \u001b[0mBackpacking on a budget? Luxury travel? Something in between?                                                   \n",
              "\u001b[1;33m • \u001b[0mDo you prefer organized tours or independent exploration?                                                       \n",
              "\n",
              "\u001b[1m4. How long are you traveling for?\u001b[0m                                                                                 \n",
              "\n",
              "\u001b[1;33m • \u001b[0mA weekend getaway? A week-long adventure? A month-long exploration?                                             \n",
              "\n",
              "\u001b[1m5. Who are you traveling with?\u001b[0m                                                                                     \n",
              "\n",
              "\u001b[1;33m • \u001b[0mSolo? With friends? Family? Partner?                                                                            \n",
              "\n",
              "Once I have this information, I can give you personalized recommendations for:                                     \n",
              "\n",
              "\u001b[1;33m • \u001b[0m\u001b[1mMust-see attractions:\u001b[0m  Iconic landmarks, hidden gems, and off                                                   \n"
            ],
            "text/html": [
              "<pre style=\"white-space:pre;overflow-x:auto;line-height:normal;font-family:Menlo,'DejaVu Sans Mono',consolas,'Courier New',monospace\">Ah, Europe! The possibilities are endless! To give you the best recommendations, I need a little more information  \n",
              "about your trip. Tell me:                                                                                          \n",
              "\n",
              "<span style=\"font-weight: bold\">1. Where are you going?</span>                                                                                            \n",
              "\n",
              "<span style=\"color: #808000; text-decoration-color: #808000; font-weight: bold\"> • </span>Do you have a specific country or region in mind? (e.g., Paris, Italy, the Balkans, Scandinavia)                \n",
              "<span style=\"color: #808000; text-decoration-color: #808000; font-weight: bold\"> • </span>Are you open to exploring multiple countries?                                                                   \n",
              "\n",
              "<span style=\"font-weight: bold\">2. What are your interests?</span>                                                                                        \n",
              "\n",
              "<span style=\"color: #808000; text-decoration-color: #808000; font-weight: bold\"> • </span>History buff? Art lover? Foodie? Nature enthusiast? Nightlife seeker?                                           \n",
              "<span style=\"color: #808000; text-decoration-color: #808000; font-weight: bold\"> • </span>Do you prefer bustling cities or peaceful countryside?                                                          \n",
              "\n",
              "<span style=\"font-weight: bold\">3. What's your travel style?</span>                                                                                       \n",
              "\n",
              "<span style=\"color: #808000; text-decoration-color: #808000; font-weight: bold\"> • </span>Backpacking on a budget? Luxury travel? Something in between?                                                   \n",
              "<span style=\"color: #808000; text-decoration-color: #808000; font-weight: bold\"> • </span>Do you prefer organized tours or independent exploration?                                                       \n",
              "\n",
              "<span style=\"font-weight: bold\">4. How long are you traveling for?</span>                                                                                 \n",
              "\n",
              "<span style=\"color: #808000; text-decoration-color: #808000; font-weight: bold\"> • </span>A weekend getaway? A week-long adventure? A month-long exploration?                                             \n",
              "\n",
              "<span style=\"font-weight: bold\">5. Who are you traveling with?</span>                                                                                     \n",
              "\n",
              "<span style=\"color: #808000; text-decoration-color: #808000; font-weight: bold\"> • </span>Solo? With friends? Family? Partner?                                                                            \n",
              "\n",
              "Once I have this information, I can give you personalized recommendations for:                                     \n",
              "\n",
              "<span style=\"color: #808000; text-decoration-color: #808000; font-weight: bold\"> • </span><span style=\"font-weight: bold\">Must-see attractions:</span>  Iconic landmarks, hidden gems, and off                                                   \n",
              "</pre>\n"
            ]
          },
          "metadata": {}
        },
        {
          "output_type": "execute_result",
          "data": {
            "text/plain": [
              "\"Ah, Europe! The possibilities are endless! To give you the best recommendations, I need a little more information about your trip. Tell me:\\n\\n**1. Where are you going?** \\n   *  Do you have a specific country or region in mind? (e.g., Paris, Italy, the Balkans, Scandinavia)\\n   *  Are you open to exploring multiple countries?\\n\\n**2. What are your interests?**\\n   *  History buff? Art lover? Foodie? Nature enthusiast? Nightlife seeker? \\n   *  Do you prefer bustling cities or peaceful countryside?\\n\\n**3. What's your travel style?**\\n   *  Backpacking on a budget? Luxury travel? Something in between?\\n   *  Do you prefer organized tours or independent exploration?\\n\\n**4. How long are you traveling for?**\\n   *  A weekend getaway? A week-long adventure? A month-long exploration?\\n\\n**5. Who are you traveling with?**\\n   *  Solo? With friends? Family? Partner? \\n\\nOnce I have this information, I can give you personalized recommendations for:\\n\\n* **Must-see attractions:**  Iconic landmarks, hidden gems, and off\""
            ],
            "application/vnd.google.colaboratory.intrinsic+json": {
              "type": "string"
            }
          },
          "metadata": {},
          "execution_count": 6
        }
      ]
    },
    {
      "cell_type": "code",
      "source": [
        "generate(\"Which is bigger 9.11 or 9.9?\")"
      ],
      "metadata": {
        "colab": {
          "base_uri": "https://localhost:8080/",
          "height": 52
        },
        "id": "bOsjyZwhvjHd",
        "outputId": "c6cd49eb-3c03-4be0-8f75-ba72745d14be"
      },
      "execution_count": 7,
      "outputs": [
        {
          "output_type": "display_data",
          "data": {
            "text/plain": [
              "9.9 is bigger than 9.11.                                                                                           \n"
            ],
            "text/html": [
              "<pre style=\"white-space:pre;overflow-x:auto;line-height:normal;font-family:Menlo,'DejaVu Sans Mono',consolas,'Courier New',monospace\">9.9 is bigger than 9.11.                                                                                           \n",
              "</pre>\n"
            ]
          },
          "metadata": {}
        },
        {
          "output_type": "execute_result",
          "data": {
            "text/plain": [
              "'9.9 is bigger than 9.11.'"
            ],
            "application/vnd.google.colaboratory.intrinsic+json": {
              "type": "string"
            }
          },
          "metadata": {},
          "execution_count": 7
        }
      ]
    },
    {
      "cell_type": "code",
      "source": [
        "generate(\"How many R's are there in strawberry\")"
      ],
      "metadata": {
        "colab": {
          "base_uri": "https://localhost:8080/",
          "height": 103
        },
        "id": "onnQ_yZJxxYV",
        "outputId": "c3deac64-df52-4a18-cff2-fad0e6f903c2"
      },
      "execution_count": 8,
      "outputs": [
        {
          "output_type": "display_data",
          "data": {
            "text/plain": [
              "Let's count the \"R\"s in \"strawberry\":                                                                              \n",
              "\n",
              "\u001b[1;33m • \u001b[0m\u001b[1ms\u001b[0mtrawberry                                                                                                      \n",
              "\u001b[1;33m • \u001b[0mThere are \u001b[1mtwo\u001b[0m \"R\"s in the word \"strawberry\".                                                                    \n"
            ],
            "text/html": [
              "<pre style=\"white-space:pre;overflow-x:auto;line-height:normal;font-family:Menlo,'DejaVu Sans Mono',consolas,'Courier New',monospace\">Let's count the \"R\"s in \"strawberry\":                                                                              \n",
              "\n",
              "<span style=\"color: #808000; text-decoration-color: #808000; font-weight: bold\"> • </span><span style=\"font-weight: bold\">s</span>trawberry                                                                                                      \n",
              "<span style=\"color: #808000; text-decoration-color: #808000; font-weight: bold\"> • </span>There are <span style=\"font-weight: bold\">two</span> \"R\"s in the word \"strawberry\".                                                                    \n",
              "</pre>\n"
            ]
          },
          "metadata": {}
        },
        {
          "output_type": "execute_result",
          "data": {
            "text/plain": [
              "'Let\\'s count the \"R\"s in \"strawberry\":\\n\\n* **s**trawberry \\n* There are **two** \"R\"s in the word \"strawberry\".'"
            ],
            "application/vnd.google.colaboratory.intrinsic+json": {
              "type": "string"
            }
          },
          "metadata": {},
          "execution_count": 8
        }
      ]
    },
    {
      "cell_type": "code",
      "source": [],
      "metadata": {
        "id": "N1FVyk3W0-49"
      },
      "execution_count": null,
      "outputs": []
    }
  ]
}